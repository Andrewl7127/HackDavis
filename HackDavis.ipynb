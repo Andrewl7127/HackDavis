{
 "cells": [
  {
   "cell_type": "code",
   "execution_count": 95,
   "metadata": {},
   "outputs": [],
   "source": [
    "import speech_recognition as sr\n",
    "import pyttsx3\n",
    "import zipcodes\n",
    "import pandas as pd\n",
    "from twilio.rest import Client\n",
    "from datetime import datetime, timedelta"
   ]
  },
  {
   "cell_type": "code",
   "execution_count": 106,
   "metadata": {},
   "outputs": [],
   "source": [
    "new = pd.read_csv('https://raw.githubusercontent.com/nytimes/covid-19-data/master/us-counties.csv')\n",
    "new['date'] = pd.to_datetime(new['date'])\n",
    "last_day = new['date'].max().date()\n",
    "day_before = last_day - timedelta(days=1)\n",
    "date = last_day.strftime(\"%Y-%m-%d\")\n",
    "pd.options.mode.chained_assignment = None\n",
    "data = new[new['date'] == date]\n",
    "data.drop(columns = ['fips', 'date'], inplace = True)\n",
    "data.set_index(['county', 'state'], inplace=True)\n",
    "data2 = new[new['date'] == day_before.strftime(\"%Y-%m-%d\")]\n",
    "data2.drop(columns = ['fips', 'date'], inplace = True)\n",
    "data2.set_index(['county', 'state'], inplace=True)\n",
    "new_cases = data - data2\n",
    "new_cases.reset_index(level=0, inplace=True)\n",
    "new_cases.reset_index(level=0, inplace=True)\n",
    "new_cases.reset_index(level=0, inplace=True, drop = True)\n",
    "new_cases['county'] = new_cases['county'] + \" County\""
   ]
  },
  {
   "cell_type": "code",
   "execution_count": 108,
   "metadata": {},
   "outputs": [],
   "source": [
    "counties = pd.read_csv('https://raw.githubusercontent.com/nytimes/covid-19-data/master/live/us-counties.csv')\n",
    "counties['county'] = counties['county'] + \" County\"\n",
    "\n",
    "us_state_abbrev = {\n",
    "    'Alabama': 'AL',\n",
    "    'Alaska': 'AK',\n",
    "    'American Samoa': 'AS',\n",
    "    'Arizona': 'AZ',\n",
    "    'Arkansas': 'AR',\n",
    "    'California': 'CA',\n",
    "    'Colorado': 'CO',\n",
    "    'Connecticut': 'CT',\n",
    "    'Delaware': 'DE',\n",
    "    'District of Columbia': 'DC',\n",
    "    'Florida': 'FL',\n",
    "    'Georgia': 'GA',\n",
    "    'Guam': 'GU',\n",
    "    'Hawaii': 'HI',\n",
    "    'Idaho': 'ID',\n",
    "    'Illinois': 'IL',\n",
    "    'Indiana': 'IN',\n",
    "    'Iowa': 'IA',\n",
    "    'Kansas': 'KS',\n",
    "    'Kentucky': 'KY',\n",
    "    'Louisiana': 'LA',\n",
    "    'Maine': 'ME',\n",
    "    'Maryland': 'MD',\n",
    "    'Massachusetts': 'MA',\n",
    "    'Michigan': 'MI',\n",
    "    'Minnesota': 'MN',\n",
    "    'Mississippi': 'MS',\n",
    "    'Missouri': 'MO',\n",
    "    'Montana': 'MT',\n",
    "    'Nebraska': 'NE',\n",
    "    'Nevada': 'NV',\n",
    "    'New Hampshire': 'NH',\n",
    "    'New Jersey': 'NJ',\n",
    "    'New Mexico': 'NM',\n",
    "    'New York': 'NY',\n",
    "    'North Carolina': 'NC',\n",
    "    'North Dakota': 'ND',\n",
    "    'Northern Mariana Islands':'MP',\n",
    "    'Ohio': 'OH',\n",
    "    'Oklahoma': 'OK',\n",
    "    'Oregon': 'OR',\n",
    "    'Pennsylvania': 'PA',\n",
    "    'Puerto Rico': 'PR',\n",
    "    'Rhode Island': 'RI',\n",
    "    'South Carolina': 'SC',\n",
    "    'South Dakota': 'SD',\n",
    "    'Tennessee': 'TN',\n",
    "    'Texas': 'TX',\n",
    "    'Utah': 'UT',\n",
    "    'Vermont': 'VT',\n",
    "    'Virgin Islands': 'VI',\n",
    "    'Virginia': 'VA',\n",
    "    'Washington': 'WA',\n",
    "    'West Virginia': 'WV',\n",
    "    'Wiscbonsin': 'WI',\n",
    "    'Wyoming': 'WY'\n",
    "}\n",
    "\n",
    "counties['state'] = counties['state'].map(us_state_abbrev)\n",
    "new_cases['state'] = new_cases['state'].map(us_state_abbrev)"
   ]
  },
  {
   "cell_type": "code",
   "execution_count": 128,
   "metadata": {},
   "outputs": [],
   "source": [
    "engine = pyttsx3.init()\n",
    "engine.setProperty('rate', 125)"
   ]
  },
  {
   "cell_type": "code",
   "execution_count": 123,
   "metadata": {},
   "outputs": [],
   "source": [
    "def say(message):\n",
    "    engine.say(message)\n",
    "    engine.runAndWait()"
   ]
  },
  {
   "cell_type": "code",
   "execution_count": 124,
   "metadata": {},
   "outputs": [],
   "source": [
    "def talk(message):\n",
    "    \n",
    "    r = sr.Recognizer()\n",
    "\n",
    "    with sr.Microphone() as source:\n",
    "        say(message)\n",
    "        audio_text = r.listen(source)\n",
    "\n",
    "        try:\n",
    "            return r.recognize_google(audio_text)\n",
    "            \n",
    "        except:\n",
    "            say(\"Sorry, I did not get that\")\n",
    "            talk(message)"
   ]
  },
  {
   "cell_type": "code",
   "execution_count": 125,
   "metadata": {},
   "outputs": [],
   "source": [
    "def stats():\n",
    "    \n",
    "    code = talk(\"What is your zip code?\")\n",
    "    print (code)\n",
    "    \n",
    "    try:\n",
    "        x = zipcodes.matching(code)\n",
    "        c = x[0]['county']\n",
    "        s = x[0]['state']\n",
    "        cases = int(new_cases[(new_cases['county'] == c) & (new_cases['state'] == s)].cases)\n",
    "        deaths = int(new_cases[(new_cases['county'] == c) & (new_cases['state'] == s)].deaths)\n",
    "        cases2 = int(counties[(counties['county'] == c) & (counties['state'] == s)].cases)\n",
    "        deaths2 = int(counties[(counties['county'] == c) & (counties['state'] == s)].deaths)\n",
    "        msg = \"There have been \" + str(cases) + \" new cases and \" + str(deaths) + \" new deaths in \" + c + \" as of \" + date\n",
    "        msg += \". There have been \" + str(cases2) + \" total cases and \" + str(deaths2) + \" total deaths in \" + c\n",
    "        say(msg)\n",
    "        return msg\n",
    "        \n",
    "    except:\n",
    "        say(\"Sorry, I did not get that\")\n",
    "        stats()"
   ]
  },
  {
   "cell_type": "code",
   "execution_count": 126,
   "metadata": {},
   "outputs": [
    {
     "ename": "SyntaxError",
     "evalue": "invalid syntax (<ipython-input-126-b7ccc2498926>, line 6)",
     "output_type": "error",
     "traceback": [
      "\u001b[1;36m  File \u001b[1;32m\"<ipython-input-126-b7ccc2498926>\"\u001b[1;36m, line \u001b[1;32m6\u001b[0m\n\u001b[1;33m    while (flag = False):\u001b[0m\n\u001b[1;37m                ^\u001b[0m\n\u001b[1;31mSyntaxError\u001b[0m\u001b[1;31m:\u001b[0m invalid syntax\n"
     ]
    }
   ],
   "source": [
    "def main():\n",
    "    \n",
    "    say(\"Welcome to our test app!\")\n",
    "    response = talk(\"How can I help you?\")\n",
    "    flag = False\n",
    "    while (flag = False):\n",
    "        flag2 = False\n",
    "        while (flag2 = False):\n",
    "            if (\"restart\".find(response) > -1):\n",
    "                flag = True\n",
    "                flag2 = True\n",
    "            response = talk(\"Is there anything else I can help you with?\")\n",
    "            if (\"no\".find(response) > -1):\n",
    "                flag = True\n",
    "            if (\"yes\".find(response) > -1):\n",
    "                flag = True\n",
    "    say (\"Goodbye!\")"
   ]
  },
  {
   "cell_type": "code",
   "execution_count": 129,
   "metadata": {},
   "outputs": [
    {
     "name": "stdout",
     "output_type": "stream",
     "text": [
      "92127\n"
     ]
    },
    {
     "data": {
      "text/plain": [
       "'There have been 2695 new cases and 32 new deaths in San Diego County as of 2021-01-15. There have been 206933 total cases and 2037 total deaths in San Diego County'"
      ]
     },
     "execution_count": 129,
     "metadata": {},
     "output_type": "execute_result"
    }
   ],
   "source": [
    "stats()"
   ]
  },
  {
   "cell_type": "code",
   "execution_count": null,
   "metadata": {},
   "outputs": [],
   "source": [
    "response = \"restart\"\n",
    "while (\"restart\".find(response) > -1):\n",
    "    main()"
   ]
  }
 ],
 "metadata": {
  "kernelspec": {
   "display_name": "Python 3",
   "language": "python",
   "name": "python3"
  },
  "language_info": {
   "codemirror_mode": {
    "name": "ipython",
    "version": 3
   },
   "file_extension": ".py",
   "mimetype": "text/x-python",
   "name": "python",
   "nbconvert_exporter": "python",
   "pygments_lexer": "ipython3",
   "version": "3.8.5"
  }
 },
 "nbformat": 4,
 "nbformat_minor": 4
}
